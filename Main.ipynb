{
 "cells": [
  {
   "cell_type": "code",
   "execution_count": 272,
   "id": "d82c9808-b0b8-48d4-9310-6a99b73faf6d",
   "metadata": {},
   "outputs": [],
   "source": [
    "# Import CSV and Path modules\n",
    "import csv\n",
    "from pathlib import Path\n",
    "# Set the file path\n",
    "csv_path = Path('./budget_data.csv')"
   ]
  },
  {
   "cell_type": "code",
   "execution_count": 273,
   "id": "05d77888-38d1-483f-90d0-bf5e6a9b1987",
   "metadata": {},
   "outputs": [],
   "source": [
    "# Initialize variable to hold pnl_data\n",
    "pnl_data = []\n",
    "dates = []\n",
    "\n",
    "# Read 'r' CSV data\n",
    "with open(csv_path, 'r') as f:\n",
    "    csv_file = csv.reader(f, delimiter=',')\n",
    "    headers = next(csv_file)\n",
    "    \n",
    "    # Loop through list and use int to capture pnl_data\n",
    "    for row in csv_file:\n",
    "        pnl_data.append(int(row[1]))\n",
    "        dates.append(row[0])  \n",
    "    \n",
    "#Initialize metric variables for questions\n",
    "total_months = len(dates) \n",
    "profitsnlosses_net = sum(pnl_data)\n",
    "delta = []\n",
    "total_delta = 0\n",
    "average_delta = 0\n",
    "greatest_increase = 0\n",
    "greatest_decrease = 0\n",
    "greatest_increase_date = 0\n",
    "greatest_decrease_date = 0\n",
    "\n",
    "# Calculate the average of the changes in Profit/Losses over the entire period\n",
    "for x in range(1,len(pnl_data)):\n",
    "    delta.append(pnl_data[x] - pnl_data[x-1])\n",
    "for x in delta:\n",
    "    total_delta += x\n",
    "average_delta = round(total_delta/len(delta), 2)\n",
    "\n",
    "# Calculate the greatest increase in Profits over the entire period\n"
   ]
  },
  {
   "cell_type": "code",
   "execution_count": 276,
   "id": "649a514f-2782-4193-8192-af61c3120cb8",
   "metadata": {},
   "outputs": [
    {
     "name": "stdout",
     "output_type": "stream",
     "text": [
      "PnL Analysis\n",
      "--------------------------\n",
      "Total Months: 86\n",
      "Total: $38382578\n",
      "Average  Change: $-2315.12\n",
      "Greatest Increase in Profits: 0 ($0)\n",
      "Greatest Decrease in Profits: 0 ($0)\n"
     ]
    }
   ],
   "source": [
    "#Printing Answers in fancy pants manner\n",
    "print(\"PnL Analysis\")\n",
    "print(\"--------------------------\")\n",
    "print(f\"Total Months: {total_months}\")\n",
    "print(f\"Total: ${profitsnlosses_net}\")\n",
    "print(f\"Average  Change: ${average_delta}\")\n",
    "print(f\"Greatest Increase in Profits: {greatest_increase_date} (${greatest_increase})\")\n",
    "print(f\"Greatest Decrease in Profits: {greatest_decrease_date} (${greatest_decrease})\")\n",
    "# Print results in .txt file\n",
    "with open(\"results.txt\", \"w\") as f:\n",
    "    f.write(\"PnL Analysis\")\n",
    "    f.write(\"\\n----------------------------\")\n",
    "    f.write(f\"\\nTotal Months: {total_months}\")\n",
    "    f.write(f\"\\nTotal: ${profitsnlosses_net}\")\n",
    "    f.write(f\"\\nAverage Change: ${average_delta}\")\n",
    "    f.write(f\"\\nGreatest increase in Profits: {greatest_increase_date} (${greatest_increase})\")\n",
    "    f.write(f\"\\nGreatest decrease in Profits: {greatest_decrease_date} (${greatest_decrease})\")"
   ]
  },
  {
   "cell_type": "code",
   "execution_count": null,
   "id": "4cc3f3d2-a1e5-40b9-bb52-c0bf40d07579",
   "metadata": {},
   "outputs": [],
   "source": []
  },
  {
   "cell_type": "code",
   "execution_count": null,
   "id": "d4b0b844-37be-4a48-b309-163392c1db22",
   "metadata": {},
   "outputs": [],
   "source": []
  }
 ],
 "metadata": {
  "kernelspec": {
   "display_name": "dev",
   "language": "python",
   "name": "dev"
  },
  "language_info": {
   "codemirror_mode": {
    "name": "ipython",
    "version": 3
   },
   "file_extension": ".py",
   "mimetype": "text/x-python",
   "name": "python",
   "nbconvert_exporter": "python",
   "pygments_lexer": "ipython3",
   "version": "3.7.13"
  }
 },
 "nbformat": 4,
 "nbformat_minor": 5
}
